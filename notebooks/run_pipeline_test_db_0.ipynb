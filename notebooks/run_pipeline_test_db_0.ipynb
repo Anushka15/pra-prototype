{
 "cells": [
  {
   "cell_type": "code",
   "execution_count": 1,
   "id": "601109d3-374f-42cd-ad08-672be7b679ce",
   "metadata": {},
   "outputs": [],
   "source": [
    "import sys\n",
    "import os\n",
    "sys.path.append(os.path.abspath(\"..\"))\n",
    "import warnings\n",
    "warnings.filterwarnings('ignore')"
   ]
  },
  {
   "cell_type": "code",
   "execution_count": 2,
   "id": "2a30aef9-909d-4653-830f-a124e477c52b",
   "metadata": {},
   "outputs": [],
   "source": [
    "import pandas as pd"
   ]
  },
  {
   "cell_type": "code",
   "execution_count": 3,
   "id": "fb8e9d25-925e-4e7b-a5c8-7d9b14982958",
   "metadata": {},
   "outputs": [
    {
     "name": "stdout",
     "output_type": "stream",
     "text": [
      "   A  B   C   D\n",
      "0  1  4  10  15\n",
      "1  1  4  11  14\n",
      "2  1  2  11  16\n",
      "3  1  2  12  17\n",
      "4  1  3  14  21\n",
      "5  2  3  13  18\n",
      "6  2  3  15  20\n",
      "7  3  4  20  21\n"
     ]
    }
   ],
   "source": [
    "data = [\n",
    "    [1,4,10,15],\n",
    "    [1,4,11,14],\n",
    "    [1,2,11,16],\n",
    "    [1,2,12,17],\n",
    "    [1,3,14,21],\n",
    "    [2,3,13,18],\n",
    "    [2,3,15,20],\n",
    "    [3,4,20,21]\n",
    "]\n",
    "\n",
    "columns = ['A','B','C','D']\n",
    "\n",
    "df_data = pd.DataFrame(data, columns=columns)\n",
    "print(df_data)"
   ]
  },
  {
   "cell_type": "code",
   "execution_count": 4,
   "id": "87a960e8-8b38-4a13-a9d0-cb7ed492183a",
   "metadata": {},
   "outputs": [],
   "source": [
    "from src.database.db_connection import *"
   ]
  },
  {
   "cell_type": "code",
   "execution_count": 5,
   "id": "d9094cba-dec1-433e-b634-fad4d12d65a7",
   "metadata": {},
   "outputs": [],
   "source": [
    "engine = create_engine_for_db()"
   ]
  },
  {
   "cell_type": "code",
   "execution_count": 6,
   "id": "e430777a-6638-4960-9daf-5b8688602590",
   "metadata": {},
   "outputs": [
    {
     "data": {
      "text/plain": [
       "8"
      ]
     },
     "execution_count": 6,
     "metadata": {},
     "output_type": "execute_result"
    }
   ],
   "source": [
    "df_data.to_sql('test_prototype_1',engine,schema='prototype1',index=False,if_exists='replace')"
   ]
  },
  {
   "cell_type": "code",
   "execution_count": 7,
   "id": "d5757938-8f2f-42d7-9d86-5c99437dba35",
   "metadata": {},
   "outputs": [],
   "source": [
    "fd_constraint1 = [(['A'],['B'])]"
   ]
  },
  {
   "cell_type": "markdown",
   "id": "fc11fe42-b50d-4cba-90e5-1ab1733ae687",
   "metadata": {},
   "source": [
    "# Step 1 - simplify FDs to have one attribute at RHS"
   ]
  },
  {
   "cell_type": "code",
   "execution_count": 8,
   "id": "7a768cd2-6115-443e-8a86-4a6e5d73f397",
   "metadata": {},
   "outputs": [],
   "source": [
    "from src.utilities.step1_simplify_fds import *"
   ]
  },
  {
   "cell_type": "code",
   "execution_count": 9,
   "id": "fa57557f-857e-45e2-83a6-f9352651e58b",
   "metadata": {},
   "outputs": [],
   "source": [
    "fd_constraint1 = simplify_FDs(fd_constraint1)"
   ]
  },
  {
   "cell_type": "code",
   "execution_count": 10,
   "id": "ca58d0fa-2cef-4559-8fc6-e1ea98241304",
   "metadata": {},
   "outputs": [
    {
     "data": {
      "text/plain": [
       "[(['A'], ['B'])]"
      ]
     },
     "execution_count": 10,
     "metadata": {},
     "output_type": "execute_result"
    }
   ],
   "source": [
    "fd_constraint1"
   ]
  },
  {
   "cell_type": "markdown",
   "id": "063f455a-6ccb-455d-ae8e-24f7d1f09d0c",
   "metadata": {},
   "source": [
    "# Step 2: clusters + generating possible repairs per cluster"
   ]
  },
  {
   "cell_type": "code",
   "execution_count": 11,
   "id": "2f69622d-57e9-44b0-9c24-c97c77fac8ca",
   "metadata": {},
   "outputs": [],
   "source": [
    "from src.utilities.step2_clustering_and_generating_repairs import *"
   ]
  },
  {
   "cell_type": "markdown",
   "id": "2463bfde-f1fc-40db-ac98-4033499d8c48",
   "metadata": {},
   "source": [
    "### Step 2_0: Preprocess data by adding a new column with unique identifier"
   ]
  },
  {
   "cell_type": "code",
   "execution_count": 12,
   "id": "56f57a0a-8f44-4364-a84e-0c3bfca961c9",
   "metadata": {},
   "outputs": [],
   "source": [
    "df_data = preprocess_data(df_data)"
   ]
  },
  {
   "cell_type": "code",
   "execution_count": 13,
   "id": "fa953aa2-03f1-4cac-b325-e05a5f4f47d5",
   "metadata": {},
   "outputs": [
    {
     "data": {
      "text/html": [
       "<div>\n",
       "<style scoped>\n",
       "    .dataframe tbody tr th:only-of-type {\n",
       "        vertical-align: middle;\n",
       "    }\n",
       "\n",
       "    .dataframe tbody tr th {\n",
       "        vertical-align: top;\n",
       "    }\n",
       "\n",
       "    .dataframe thead th {\n",
       "        text-align: right;\n",
       "    }\n",
       "</style>\n",
       "<table border=\"1\" class=\"dataframe\">\n",
       "  <thead>\n",
       "    <tr style=\"text-align: right;\">\n",
       "      <th></th>\n",
       "      <th>A</th>\n",
       "      <th>B</th>\n",
       "      <th>C</th>\n",
       "      <th>D</th>\n",
       "      <th>uuid</th>\n",
       "    </tr>\n",
       "  </thead>\n",
       "  <tbody>\n",
       "    <tr>\n",
       "      <th>0</th>\n",
       "      <td>1</td>\n",
       "      <td>4</td>\n",
       "      <td>10</td>\n",
       "      <td>15</td>\n",
       "      <td>1</td>\n",
       "    </tr>\n",
       "    <tr>\n",
       "      <th>1</th>\n",
       "      <td>1</td>\n",
       "      <td>4</td>\n",
       "      <td>11</td>\n",
       "      <td>14</td>\n",
       "      <td>2</td>\n",
       "    </tr>\n",
       "    <tr>\n",
       "      <th>2</th>\n",
       "      <td>1</td>\n",
       "      <td>2</td>\n",
       "      <td>11</td>\n",
       "      <td>16</td>\n",
       "      <td>3</td>\n",
       "    </tr>\n",
       "    <tr>\n",
       "      <th>3</th>\n",
       "      <td>1</td>\n",
       "      <td>2</td>\n",
       "      <td>12</td>\n",
       "      <td>17</td>\n",
       "      <td>4</td>\n",
       "    </tr>\n",
       "    <tr>\n",
       "      <th>4</th>\n",
       "      <td>1</td>\n",
       "      <td>3</td>\n",
       "      <td>14</td>\n",
       "      <td>21</td>\n",
       "      <td>5</td>\n",
       "    </tr>\n",
       "    <tr>\n",
       "      <th>5</th>\n",
       "      <td>2</td>\n",
       "      <td>3</td>\n",
       "      <td>13</td>\n",
       "      <td>18</td>\n",
       "      <td>6</td>\n",
       "    </tr>\n",
       "    <tr>\n",
       "      <th>6</th>\n",
       "      <td>2</td>\n",
       "      <td>3</td>\n",
       "      <td>15</td>\n",
       "      <td>20</td>\n",
       "      <td>7</td>\n",
       "    </tr>\n",
       "    <tr>\n",
       "      <th>7</th>\n",
       "      <td>3</td>\n",
       "      <td>4</td>\n",
       "      <td>20</td>\n",
       "      <td>21</td>\n",
       "      <td>8</td>\n",
       "    </tr>\n",
       "  </tbody>\n",
       "</table>\n",
       "</div>"
      ],
      "text/plain": [
       "   A  B   C   D  uuid\n",
       "0  1  4  10  15     1\n",
       "1  1  4  11  14     2\n",
       "2  1  2  11  16     3\n",
       "3  1  2  12  17     4\n",
       "4  1  3  14  21     5\n",
       "5  2  3  13  18     6\n",
       "6  2  3  15  20     7\n",
       "7  3  4  20  21     8"
      ]
     },
     "execution_count": 13,
     "metadata": {},
     "output_type": "execute_result"
    }
   ],
   "source": [
    "df_data"
   ]
  },
  {
   "cell_type": "markdown",
   "id": "f1b324aa-0396-4c2c-afce-c246b9f8b6a9",
   "metadata": {},
   "source": [
    "### Step 2_1: Identify clusters - group by FD_LHS"
   ]
  },
  {
   "cell_type": "code",
   "execution_count": 14,
   "id": "6e17b098-6083-432e-99bf-8b72b0c97be2",
   "metadata": {},
   "outputs": [],
   "source": [
    "# src.utilities.step2_clustering_and_generating_repair identify_clusters"
   ]
  },
  {
   "cell_type": "markdown",
   "id": "49e5dfa3-0cdc-4835-80d4-0fb50d874c99",
   "metadata": {},
   "source": [
    "### Step 2_2: Find minimum actions needed within a cluster"
   ]
  },
  {
   "cell_type": "code",
   "execution_count": 15,
   "id": "2cbd6a6b-4387-412f-ba76-154adebcf578",
   "metadata": {},
   "outputs": [],
   "source": [
    "# src.utilities.step2_clustering_and_generating_repair find_minimum_actions"
   ]
  },
  {
   "cell_type": "markdown",
   "id": "4f25e13a-f2b7-4a62-96c1-a368955ebc81",
   "metadata": {},
   "source": [
    "### Step 2_3: Define highest frequency sub-clusters"
   ]
  },
  {
   "cell_type": "code",
   "execution_count": 16,
   "id": "b8a53b50-efb5-4d08-a3b1-ee02ac65413a",
   "metadata": {},
   "outputs": [],
   "source": [
    "# src.utilities.step2_clustering_and_generating_repair mark_high_frequence_subclusters"
   ]
  },
  {
   "cell_type": "markdown",
   "id": "c09d67f2-d494-4a22-9521-8ab1f0f41a2e",
   "metadata": {},
   "source": [
    "### Step 2_4: Create and assign RVs for delete, update & delete/update cases"
   ]
  },
  {
   "cell_type": "code",
   "execution_count": 17,
   "id": "f150b174-4672-420b-9094-895ce6f74be0",
   "metadata": {},
   "outputs": [],
   "source": [
    "# src.utilities.step2_clustering_and_generating_repair create_rv_definitions"
   ]
  },
  {
   "cell_type": "code",
   "execution_count": 18,
   "id": "53304800-98ab-4bd0-b1dc-1121296d5e55",
   "metadata": {},
   "outputs": [],
   "source": [
    "rv_definitions,rv_probabilities,consistent_rows = create_rv_definitions(df_data,fd_constraint1)"
   ]
  },
  {
   "cell_type": "code",
   "execution_count": 19,
   "id": "39cd4472-04f2-471c-9573-de3e78ecd1a0",
   "metadata": {},
   "outputs": [
    {
     "data": {
      "text/plain": [
       "{'fd1B1=1': (2, {3, 4}),\n",
       " 'fd1B1=2': (2, {1, 3, 4}),\n",
       " 'fd1B1=3': (2, {2, 3, 4}),\n",
       " 'fd1B1=4': (2, {3, 4, 5}),\n",
       " 'fd1B1=5': (2, {1, 2, 3, 4}),\n",
       " 'fd1B1=6': (2, {1, 3, 4, 5}),\n",
       " 'fd1B1=7': (2, {2, 3, 4, 5}),\n",
       " 'fd1B1=8': (2, {1, 2, 3, 4, 5}),\n",
       " 'fd1B1=9': (4, {1, 2}),\n",
       " 'fd1B1=10': (4, {1, 2, 3}),\n",
       " 'fd1B1=11': (4, {1, 2, 4}),\n",
       " 'fd1B1=12': (4, {1, 2, 5}),\n",
       " 'fd1B1=13': (4, {1, 2, 3, 4}),\n",
       " 'fd1B1=14': (4, {1, 2, 3, 5}),\n",
       " 'fd1B1=15': (4, {1, 2, 4, 5}),\n",
       " 'fd1B1=16': (4, {1, 2, 3, 4, 5})}"
      ]
     },
     "execution_count": 19,
     "metadata": {},
     "output_type": "execute_result"
    }
   ],
   "source": [
    "rv_definitions"
   ]
  },
  {
   "cell_type": "code",
   "execution_count": 20,
   "id": "30ae1cf2-45cb-46fe-b3c8-cef7e5c10ccc",
   "metadata": {},
   "outputs": [
    {
     "data": {
      "text/plain": [
       "{'fd1B1=1': 0.0625,\n",
       " 'fd1B1=2': 0.0625,\n",
       " 'fd1B1=3': 0.0625,\n",
       " 'fd1B1=4': 0.0625,\n",
       " 'fd1B1=5': 0.0625,\n",
       " 'fd1B1=6': 0.0625,\n",
       " 'fd1B1=7': 0.0625,\n",
       " 'fd1B1=8': 0.0625,\n",
       " 'fd1B1=9': 0.0625,\n",
       " 'fd1B1=10': 0.0625,\n",
       " 'fd1B1=11': 0.0625,\n",
       " 'fd1B1=12': 0.0625,\n",
       " 'fd1B1=13': 0.0625,\n",
       " 'fd1B1=14': 0.0625,\n",
       " 'fd1B1=15': 0.0625,\n",
       " 'fd1B1=16': 0.0625}"
      ]
     },
     "execution_count": 20,
     "metadata": {},
     "output_type": "execute_result"
    }
   ],
   "source": [
    "rv_probabilities"
   ]
  },
  {
   "cell_type": "code",
   "execution_count": 21,
   "id": "14c65c0f-14e3-465e-8321-99ca33ea7231",
   "metadata": {},
   "outputs": [
    {
     "data": {
      "text/plain": [
       "[6, 7, 8]"
      ]
     },
     "execution_count": 21,
     "metadata": {},
     "output_type": "execute_result"
    }
   ],
   "source": [
    "consistent_rows"
   ]
  },
  {
   "cell_type": "markdown",
   "id": "e758c32d-8023-4656-a7bc-f15d24fb7a28",
   "metadata": {},
   "source": [
    "# Step 3: Convert back to repaired database table"
   ]
  },
  {
   "cell_type": "code",
   "execution_count": 22,
   "id": "75de5487-af6f-464a-a00a-f7b449144dba",
   "metadata": {},
   "outputs": [],
   "source": [
    "from src.utilities.step3_convert_back_to_db import *"
   ]
  },
  {
   "cell_type": "code",
   "execution_count": 23,
   "id": "b4d8613e-23b5-450b-8f70-4158bfd21231",
   "metadata": {},
   "outputs": [],
   "source": [
    "repaired_rows = create_repaired_rows(rv_definitions,df_data,consistent_rows)"
   ]
  },
  {
   "cell_type": "code",
   "execution_count": 24,
   "id": "91e5c359-a989-4ab1-9380-26be0212e87d",
   "metadata": {},
   "outputs": [],
   "source": [
    "columns = [col for col in df_data.columns if col != 'uuid'] + ['_sentences']\n",
    "repaired_df = pd.DataFrame(repaired_rows, columns=columns)"
   ]
  },
  {
   "cell_type": "code",
   "execution_count": 25,
   "id": "6ccad094-0050-4274-9d34-1868de8df439",
   "metadata": {},
   "outputs": [
    {
     "data": {
      "text/html": [
       "<div>\n",
       "<style scoped>\n",
       "    .dataframe tbody tr th:only-of-type {\n",
       "        vertical-align: middle;\n",
       "    }\n",
       "\n",
       "    .dataframe tbody tr th {\n",
       "        vertical-align: top;\n",
       "    }\n",
       "\n",
       "    .dataframe thead th {\n",
       "        text-align: right;\n",
       "    }\n",
       "</style>\n",
       "<table border=\"1\" class=\"dataframe\">\n",
       "  <thead>\n",
       "    <tr style=\"text-align: right;\">\n",
       "      <th></th>\n",
       "      <th>A</th>\n",
       "      <th>B</th>\n",
       "      <th>C</th>\n",
       "      <th>D</th>\n",
       "      <th>_sentences</th>\n",
       "    </tr>\n",
       "  </thead>\n",
       "  <tbody>\n",
       "    <tr>\n",
       "      <th>0</th>\n",
       "      <td>1</td>\n",
       "      <td>2</td>\n",
       "      <td>11</td>\n",
       "      <td>16</td>\n",
       "      <td>fd1B1=1 | fd1B1=2 | fd1B1=3 | fd1B1=4 | fd1B1=...</td>\n",
       "    </tr>\n",
       "    <tr>\n",
       "      <th>1</th>\n",
       "      <td>1</td>\n",
       "      <td>2</td>\n",
       "      <td>12</td>\n",
       "      <td>17</td>\n",
       "      <td>fd1B1=1 | fd1B1=2 | fd1B1=3 | fd1B1=4 | fd1B1=...</td>\n",
       "    </tr>\n",
       "    <tr>\n",
       "      <th>2</th>\n",
       "      <td>1</td>\n",
       "      <td>2</td>\n",
       "      <td>10</td>\n",
       "      <td>15</td>\n",
       "      <td>fd1B1=2 | fd1B1=5 | fd1B1=6 | fd1B1=8</td>\n",
       "    </tr>\n",
       "    <tr>\n",
       "      <th>3</th>\n",
       "      <td>1</td>\n",
       "      <td>2</td>\n",
       "      <td>11</td>\n",
       "      <td>14</td>\n",
       "      <td>fd1B1=3 | fd1B1=5 | fd1B1=7 | fd1B1=8</td>\n",
       "    </tr>\n",
       "    <tr>\n",
       "      <th>4</th>\n",
       "      <td>1</td>\n",
       "      <td>2</td>\n",
       "      <td>14</td>\n",
       "      <td>21</td>\n",
       "      <td>fd1B1=4 | fd1B1=6 | fd1B1=7 | fd1B1=8</td>\n",
       "    </tr>\n",
       "    <tr>\n",
       "      <th>5</th>\n",
       "      <td>1</td>\n",
       "      <td>4</td>\n",
       "      <td>10</td>\n",
       "      <td>15</td>\n",
       "      <td>fd1B1=9 | fd1B1=10 | fd1B1=11 | fd1B1=12 | fd1...</td>\n",
       "    </tr>\n",
       "    <tr>\n",
       "      <th>6</th>\n",
       "      <td>1</td>\n",
       "      <td>4</td>\n",
       "      <td>11</td>\n",
       "      <td>14</td>\n",
       "      <td>fd1B1=9 | fd1B1=10 | fd1B1=11 | fd1B1=12 | fd1...</td>\n",
       "    </tr>\n",
       "    <tr>\n",
       "      <th>7</th>\n",
       "      <td>1</td>\n",
       "      <td>4</td>\n",
       "      <td>11</td>\n",
       "      <td>16</td>\n",
       "      <td>fd1B1=10 | fd1B1=13 | fd1B1=14 | fd1B1=16</td>\n",
       "    </tr>\n",
       "    <tr>\n",
       "      <th>8</th>\n",
       "      <td>1</td>\n",
       "      <td>4</td>\n",
       "      <td>12</td>\n",
       "      <td>17</td>\n",
       "      <td>fd1B1=11 | fd1B1=13 | fd1B1=15 | fd1B1=16</td>\n",
       "    </tr>\n",
       "    <tr>\n",
       "      <th>9</th>\n",
       "      <td>1</td>\n",
       "      <td>4</td>\n",
       "      <td>14</td>\n",
       "      <td>21</td>\n",
       "      <td>fd1B1=12 | fd1B1=14 | fd1B1=15 | fd1B1=16</td>\n",
       "    </tr>\n",
       "    <tr>\n",
       "      <th>10</th>\n",
       "      <td>2</td>\n",
       "      <td>3</td>\n",
       "      <td>13</td>\n",
       "      <td>18</td>\n",
       "      <td>1</td>\n",
       "    </tr>\n",
       "    <tr>\n",
       "      <th>11</th>\n",
       "      <td>2</td>\n",
       "      <td>3</td>\n",
       "      <td>15</td>\n",
       "      <td>20</td>\n",
       "      <td>1</td>\n",
       "    </tr>\n",
       "    <tr>\n",
       "      <th>12</th>\n",
       "      <td>3</td>\n",
       "      <td>4</td>\n",
       "      <td>20</td>\n",
       "      <td>21</td>\n",
       "      <td>1</td>\n",
       "    </tr>\n",
       "  </tbody>\n",
       "</table>\n",
       "</div>"
      ],
      "text/plain": [
       "    A  B   C   D                                         _sentences\n",
       "0   1  2  11  16  fd1B1=1 | fd1B1=2 | fd1B1=3 | fd1B1=4 | fd1B1=...\n",
       "1   1  2  12  17  fd1B1=1 | fd1B1=2 | fd1B1=3 | fd1B1=4 | fd1B1=...\n",
       "2   1  2  10  15              fd1B1=2 | fd1B1=5 | fd1B1=6 | fd1B1=8\n",
       "3   1  2  11  14              fd1B1=3 | fd1B1=5 | fd1B1=7 | fd1B1=8\n",
       "4   1  2  14  21              fd1B1=4 | fd1B1=6 | fd1B1=7 | fd1B1=8\n",
       "5   1  4  10  15  fd1B1=9 | fd1B1=10 | fd1B1=11 | fd1B1=12 | fd1...\n",
       "6   1  4  11  14  fd1B1=9 | fd1B1=10 | fd1B1=11 | fd1B1=12 | fd1...\n",
       "7   1  4  11  16          fd1B1=10 | fd1B1=13 | fd1B1=14 | fd1B1=16\n",
       "8   1  4  12  17          fd1B1=11 | fd1B1=13 | fd1B1=15 | fd1B1=16\n",
       "9   1  4  14  21          fd1B1=12 | fd1B1=14 | fd1B1=15 | fd1B1=16\n",
       "10  2  3  13  18                                                  1\n",
       "11  2  3  15  20                                                  1\n",
       "12  3  4  20  21                                                  1"
      ]
     },
     "execution_count": 25,
     "metadata": {},
     "output_type": "execute_result"
    }
   ],
   "source": [
    "repaired_df"
   ]
  },
  {
   "cell_type": "markdown",
   "id": "0800bfde-e9d8-4340-97ea-fcbb49f6e2c1",
   "metadata": {},
   "source": [
    "# Step 4: Merge same rows by combining sentences"
   ]
  },
  {
   "cell_type": "code",
   "execution_count": 26,
   "id": "54963d37-954e-44a9-be4c-c967dbe636f0",
   "metadata": {},
   "outputs": [],
   "source": [
    "from src.utilities.step4_group_similar_sentences import *"
   ]
  },
  {
   "cell_type": "code",
   "execution_count": 27,
   "id": "8715eeef-9f42-411e-abc4-77be8bc1b688",
   "metadata": {},
   "outputs": [],
   "source": [
    "repaired_df = group_similar_rows_together(repaired_df)"
   ]
  },
  {
   "cell_type": "code",
   "execution_count": 28,
   "id": "292d4d41-28e0-40d9-acf4-f06e6b3bd32f",
   "metadata": {},
   "outputs": [
    {
     "data": {
      "text/html": [
       "<div>\n",
       "<style scoped>\n",
       "    .dataframe tbody tr th:only-of-type {\n",
       "        vertical-align: middle;\n",
       "    }\n",
       "\n",
       "    .dataframe tbody tr th {\n",
       "        vertical-align: top;\n",
       "    }\n",
       "\n",
       "    .dataframe thead th {\n",
       "        text-align: right;\n",
       "    }\n",
       "</style>\n",
       "<table border=\"1\" class=\"dataframe\">\n",
       "  <thead>\n",
       "    <tr style=\"text-align: right;\">\n",
       "      <th></th>\n",
       "      <th>A</th>\n",
       "      <th>B</th>\n",
       "      <th>C</th>\n",
       "      <th>D</th>\n",
       "      <th>_sentences</th>\n",
       "    </tr>\n",
       "  </thead>\n",
       "  <tbody>\n",
       "    <tr>\n",
       "      <th>0</th>\n",
       "      <td>1</td>\n",
       "      <td>2</td>\n",
       "      <td>10</td>\n",
       "      <td>15</td>\n",
       "      <td>fd1B1=2 | fd1B1=5 | fd1B1=6 | fd1B1=8</td>\n",
       "    </tr>\n",
       "    <tr>\n",
       "      <th>1</th>\n",
       "      <td>1</td>\n",
       "      <td>2</td>\n",
       "      <td>11</td>\n",
       "      <td>14</td>\n",
       "      <td>fd1B1=3 | fd1B1=5 | fd1B1=7 | fd1B1=8</td>\n",
       "    </tr>\n",
       "    <tr>\n",
       "      <th>2</th>\n",
       "      <td>1</td>\n",
       "      <td>2</td>\n",
       "      <td>11</td>\n",
       "      <td>16</td>\n",
       "      <td>fd1B1=1 | fd1B1=2 | fd1B1=3 | fd1B1=4 | fd1B1=...</td>\n",
       "    </tr>\n",
       "    <tr>\n",
       "      <th>3</th>\n",
       "      <td>1</td>\n",
       "      <td>2</td>\n",
       "      <td>12</td>\n",
       "      <td>17</td>\n",
       "      <td>fd1B1=1 | fd1B1=2 | fd1B1=3 | fd1B1=4 | fd1B1=...</td>\n",
       "    </tr>\n",
       "    <tr>\n",
       "      <th>4</th>\n",
       "      <td>1</td>\n",
       "      <td>2</td>\n",
       "      <td>14</td>\n",
       "      <td>21</td>\n",
       "      <td>fd1B1=4 | fd1B1=6 | fd1B1=7 | fd1B1=8</td>\n",
       "    </tr>\n",
       "    <tr>\n",
       "      <th>5</th>\n",
       "      <td>1</td>\n",
       "      <td>4</td>\n",
       "      <td>10</td>\n",
       "      <td>15</td>\n",
       "      <td>fd1B1=9 | fd1B1=10 | fd1B1=11 | fd1B1=12 | fd1...</td>\n",
       "    </tr>\n",
       "    <tr>\n",
       "      <th>6</th>\n",
       "      <td>1</td>\n",
       "      <td>4</td>\n",
       "      <td>11</td>\n",
       "      <td>14</td>\n",
       "      <td>fd1B1=9 | fd1B1=10 | fd1B1=11 | fd1B1=12 | fd1...</td>\n",
       "    </tr>\n",
       "    <tr>\n",
       "      <th>7</th>\n",
       "      <td>1</td>\n",
       "      <td>4</td>\n",
       "      <td>11</td>\n",
       "      <td>16</td>\n",
       "      <td>fd1B1=10 | fd1B1=13 | fd1B1=14 | fd1B1=16</td>\n",
       "    </tr>\n",
       "    <tr>\n",
       "      <th>8</th>\n",
       "      <td>1</td>\n",
       "      <td>4</td>\n",
       "      <td>12</td>\n",
       "      <td>17</td>\n",
       "      <td>fd1B1=11 | fd1B1=13 | fd1B1=15 | fd1B1=16</td>\n",
       "    </tr>\n",
       "    <tr>\n",
       "      <th>9</th>\n",
       "      <td>1</td>\n",
       "      <td>4</td>\n",
       "      <td>14</td>\n",
       "      <td>21</td>\n",
       "      <td>fd1B1=12 | fd1B1=14 | fd1B1=15 | fd1B1=16</td>\n",
       "    </tr>\n",
       "    <tr>\n",
       "      <th>10</th>\n",
       "      <td>2</td>\n",
       "      <td>3</td>\n",
       "      <td>13</td>\n",
       "      <td>18</td>\n",
       "      <td>1</td>\n",
       "    </tr>\n",
       "    <tr>\n",
       "      <th>11</th>\n",
       "      <td>2</td>\n",
       "      <td>3</td>\n",
       "      <td>15</td>\n",
       "      <td>20</td>\n",
       "      <td>1</td>\n",
       "    </tr>\n",
       "    <tr>\n",
       "      <th>12</th>\n",
       "      <td>3</td>\n",
       "      <td>4</td>\n",
       "      <td>20</td>\n",
       "      <td>21</td>\n",
       "      <td>1</td>\n",
       "    </tr>\n",
       "  </tbody>\n",
       "</table>\n",
       "</div>"
      ],
      "text/plain": [
       "    A  B   C   D                                         _sentences\n",
       "0   1  2  10  15              fd1B1=2 | fd1B1=5 | fd1B1=6 | fd1B1=8\n",
       "1   1  2  11  14              fd1B1=3 | fd1B1=5 | fd1B1=7 | fd1B1=8\n",
       "2   1  2  11  16  fd1B1=1 | fd1B1=2 | fd1B1=3 | fd1B1=4 | fd1B1=...\n",
       "3   1  2  12  17  fd1B1=1 | fd1B1=2 | fd1B1=3 | fd1B1=4 | fd1B1=...\n",
       "4   1  2  14  21              fd1B1=4 | fd1B1=6 | fd1B1=7 | fd1B1=8\n",
       "5   1  4  10  15  fd1B1=9 | fd1B1=10 | fd1B1=11 | fd1B1=12 | fd1...\n",
       "6   1  4  11  14  fd1B1=9 | fd1B1=10 | fd1B1=11 | fd1B1=12 | fd1...\n",
       "7   1  4  11  16          fd1B1=10 | fd1B1=13 | fd1B1=14 | fd1B1=16\n",
       "8   1  4  12  17          fd1B1=11 | fd1B1=13 | fd1B1=15 | fd1B1=16\n",
       "9   1  4  14  21          fd1B1=12 | fd1B1=14 | fd1B1=15 | fd1B1=16\n",
       "10  2  3  13  18                                                  1\n",
       "11  2  3  15  20                                                  1\n",
       "12  3  4  20  21                                                  1"
      ]
     },
     "execution_count": 28,
     "metadata": {},
     "output_type": "execute_result"
    }
   ],
   "source": [
    "repaired_df"
   ]
  },
  {
   "cell_type": "markdown",
   "id": "158ed305-19f9-414e-91fe-c6426934256c",
   "metadata": {},
   "source": [
    "# Step 5: Insert in Dubio"
   ]
  },
  {
   "cell_type": "code",
   "execution_count": 29,
   "id": "8a47a990-00da-46fa-a02f-f3eac25e1b2d",
   "metadata": {},
   "outputs": [
    {
     "data": {
      "text/plain": [
       "13"
      ]
     },
     "execution_count": 29,
     "metadata": {},
     "output_type": "execute_result"
    }
   ],
   "source": [
    "repaired_df.to_sql('test_prototype_1_prob',engine,schema='prototype1',index=False,if_exists='replace')"
   ]
  },
  {
   "cell_type": "code",
   "execution_count": 30,
   "id": "023a9afb-4acf-45d1-b211-8797d6d1bf71",
   "metadata": {},
   "outputs": [
    {
     "name": "stdout",
     "output_type": "stream",
     "text": [
      "UPDATE prototype1._dict\n",
      "SET dict=add(dict, 'fd1B1=1:0.0625;fd1B1=2:0.0625;fd1B1=3:0.0625;fd1B1=4:0.0625;fd1B1=5:0.0625;fd1B1=6:0.0625;fd1B1=7:0.0625;fd1B1=8:0.0625;fd1B1=9:0.0625;fd1B1=10:0.0625;fd1B1=11:0.0625;fd1B1=12:0.0625;fd1B1=13:0.0625;fd1B1=14:0.0625;fd1B1=15:0.0625;fd1B1=16:0.0625')\n",
      "WHERE name='prototype_dict';\n"
     ]
    }
   ],
   "source": [
    "entries = [f\"{k}:{v}\" for k, v in rv_probabilities.items()]\n",
    "joined = ';'.join(entries)\n",
    "\n",
    "update_stmt = f\"UPDATE prototype1._dict\\nSET dict=add(dict, '{joined}')\\nWHERE name='prototype_dict';\"\n",
    "\n",
    "print(update_stmt)"
   ]
  },
  {
   "cell_type": "code",
   "execution_count": 31,
   "id": "0e4a85b9-2464-492f-97b7-8d274d019591",
   "metadata": {},
   "outputs": [],
   "source": [
    "with engine.connect() as connection:\n",
    "    connection.execute(text(update_stmt))\n",
    "    connection.commit()"
   ]
  },
  {
   "cell_type": "code",
   "execution_count": null,
   "id": "0c8012d7-b0ce-476a-89e1-5f3bbbe67abd",
   "metadata": {},
   "outputs": [],
   "source": []
  }
 ],
 "metadata": {
  "kernelspec": {
   "display_name": "Python 3 (ipykernel)",
   "language": "python",
   "name": "python3"
  },
  "language_info": {
   "codemirror_mode": {
    "name": "ipython",
    "version": 3
   },
   "file_extension": ".py",
   "mimetype": "text/x-python",
   "name": "python",
   "nbconvert_exporter": "python",
   "pygments_lexer": "ipython3",
   "version": "3.11.5"
  }
 },
 "nbformat": 4,
 "nbformat_minor": 5
}
